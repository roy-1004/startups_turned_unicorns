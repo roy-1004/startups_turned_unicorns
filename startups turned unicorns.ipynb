{
 "cells": [
  {
   "cell_type": "markdown",
   "id": "35e43ccf",
   "metadata": {},
   "source": [
    "EDA for UNICORN COMPANIES "
   ]
  },
  {
   "cell_type": "code",
   "execution_count": 42,
   "id": "2102857d",
   "metadata": {},
   "outputs": [],
   "source": [
    "import pandas as pd\n",
    "import numpy as np\n",
    "import matplotlib.pyplot as plt\n",
    "import seaborn as sns"
   ]
  },
  {
   "cell_type": "code",
   "execution_count": 208,
   "id": "33945918",
   "metadata": {},
   "outputs": [],
   "source": [
    "df=pd.read_csv('C:/Users/DELL/Desktop/learnings22/unicorn_startups.csv')"
   ]
  },
  {
   "cell_type": "code",
   "execution_count": 209,
   "id": "39ae3279",
   "metadata": {
    "scrolled": false
   },
   "outputs": [
    {
     "data": {
      "text/html": [
       "<div>\n",
       "<style scoped>\n",
       "    .dataframe tbody tr th:only-of-type {\n",
       "        vertical-align: middle;\n",
       "    }\n",
       "\n",
       "    .dataframe tbody tr th {\n",
       "        vertical-align: top;\n",
       "    }\n",
       "\n",
       "    .dataframe thead th {\n",
       "        text-align: right;\n",
       "    }\n",
       "</style>\n",
       "<table border=\"1\" class=\"dataframe\">\n",
       "  <thead>\n",
       "    <tr style=\"text-align: right;\">\n",
       "      <th></th>\n",
       "      <th>Company</th>\n",
       "      <th>Valuation ($B)</th>\n",
       "      <th>Date Joined</th>\n",
       "      <th>Country</th>\n",
       "      <th>City</th>\n",
       "      <th>Industry</th>\n",
       "      <th>Select Investors</th>\n",
       "    </tr>\n",
       "  </thead>\n",
       "  <tbody>\n",
       "    <tr>\n",
       "      <th>0</th>\n",
       "      <td>Bytedance</td>\n",
       "      <td>$140</td>\n",
       "      <td>4/7/2017</td>\n",
       "      <td>China</td>\n",
       "      <td>Beijing</td>\n",
       "      <td>Artificial intelligence</td>\n",
       "      <td>Sequoia Capital China, SIG Asia Investments, S...</td>\n",
       "    </tr>\n",
       "    <tr>\n",
       "      <th>1</th>\n",
       "      <td>SpaceX</td>\n",
       "      <td>$100.3</td>\n",
       "      <td>12/1/2012</td>\n",
       "      <td>United States</td>\n",
       "      <td>Hawthorne</td>\n",
       "      <td>Other</td>\n",
       "      <td>Founders Fund, Draper Fisher Jurvetson, Rothen...</td>\n",
       "    </tr>\n",
       "    <tr>\n",
       "      <th>2</th>\n",
       "      <td>Stripe</td>\n",
       "      <td>$95</td>\n",
       "      <td>1/23/2014</td>\n",
       "      <td>United States</td>\n",
       "      <td>San Francisco</td>\n",
       "      <td>Fintech</td>\n",
       "      <td>Khosla Ventures, LowercaseCapital, capitalG</td>\n",
       "    </tr>\n",
       "    <tr>\n",
       "      <th>3</th>\n",
       "      <td>Klarna</td>\n",
       "      <td>$45.6</td>\n",
       "      <td>12/12/2011</td>\n",
       "      <td>Sweden</td>\n",
       "      <td>Stockholm</td>\n",
       "      <td>Fintech</td>\n",
       "      <td>Institutional Venture Partners, Sequoia Capita...</td>\n",
       "    </tr>\n",
       "    <tr>\n",
       "      <th>4</th>\n",
       "      <td>Canva</td>\n",
       "      <td>$40</td>\n",
       "      <td>1/8/2018</td>\n",
       "      <td>Australia</td>\n",
       "      <td>Surry Hills</td>\n",
       "      <td>Internet software &amp; services</td>\n",
       "      <td>Sequoia Capital China, Blackbird Ventures, Mat...</td>\n",
       "    </tr>\n",
       "  </tbody>\n",
       "</table>\n",
       "</div>"
      ],
      "text/plain": [
       "     Company Valuation ($B) Date Joined        Country           City  \\\n",
       "0  Bytedance           $140    4/7/2017          China        Beijing   \n",
       "1     SpaceX         $100.3   12/1/2012  United States      Hawthorne   \n",
       "2     Stripe            $95   1/23/2014  United States  San Francisco   \n",
       "3     Klarna          $45.6  12/12/2011         Sweden      Stockholm   \n",
       "4      Canva            $40    1/8/2018      Australia    Surry Hills   \n",
       "\n",
       "                       Industry  \\\n",
       "0       Artificial intelligence   \n",
       "1                         Other   \n",
       "2                       Fintech   \n",
       "3                       Fintech   \n",
       "4  Internet software & services   \n",
       "\n",
       "                                    Select Investors  \n",
       "0  Sequoia Capital China, SIG Asia Investments, S...  \n",
       "1  Founders Fund, Draper Fisher Jurvetson, Rothen...  \n",
       "2        Khosla Ventures, LowercaseCapital, capitalG  \n",
       "3  Institutional Venture Partners, Sequoia Capita...  \n",
       "4  Sequoia Capital China, Blackbird Ventures, Mat...  "
      ]
     },
     "execution_count": 209,
     "metadata": {},
     "output_type": "execute_result"
    }
   ],
   "source": [
    "df=df.drop(['Unnamed: 0'], axis=1)\n",
    "df.head()"
   ]
  },
  {
   "cell_type": "markdown",
   "id": "322c3478",
   "metadata": {},
   "source": [
    " DATA CLEANING "
   ]
  },
  {
   "cell_type": "code",
   "execution_count": 210,
   "id": "d880a5de",
   "metadata": {},
   "outputs": [
    {
     "data": {
      "text/plain": [
       "(936, 7)"
      ]
     },
     "execution_count": 210,
     "metadata": {},
     "output_type": "execute_result"
    }
   ],
   "source": [
    "#number of rows and columns\n",
    "df.shape"
   ]
  },
  {
   "cell_type": "code",
   "execution_count": 211,
   "id": "66be8e26",
   "metadata": {},
   "outputs": [
    {
     "data": {
      "text/plain": [
       "Company              0\n",
       "Valuation ($B)       0\n",
       "Date Joined          0\n",
       "Country              0\n",
       "City                15\n",
       "Industry             0\n",
       "Select Investors     1\n",
       "dtype: int64"
      ]
     },
     "execution_count": 211,
     "metadata": {},
     "output_type": "execute_result"
    }
   ],
   "source": [
    "#determining missing values\n",
    "df.isna().sum()"
   ]
  },
  {
   "cell_type": "code",
   "execution_count": 212,
   "id": "473fc579",
   "metadata": {},
   "outputs": [
    {
     "data": {
      "text/plain": [
       "0"
      ]
     },
     "execution_count": 212,
     "metadata": {},
     "output_type": "execute_result"
    }
   ],
   "source": [
    "df.duplicated().sum()"
   ]
  },
  {
   "cell_type": "code",
   "execution_count": 213,
   "id": "d0dc78e3",
   "metadata": {},
   "outputs": [
    {
     "name": "stdout",
     "output_type": "stream",
     "text": [
      "<class 'pandas.core.frame.DataFrame'>\n",
      "RangeIndex: 936 entries, 0 to 935\n",
      "Data columns (total 7 columns):\n",
      " #   Column            Non-Null Count  Dtype \n",
      "---  ------            --------------  ----- \n",
      " 0   Company           936 non-null    object\n",
      " 1   Valuation ($B)    936 non-null    object\n",
      " 2   Date Joined       936 non-null    object\n",
      " 3   Country           936 non-null    object\n",
      " 4   City              921 non-null    object\n",
      " 5   Industry          936 non-null    object\n",
      " 6   Select Investors  935 non-null    object\n",
      "dtypes: object(7)\n",
      "memory usage: 51.3+ KB\n"
     ]
    }
   ],
   "source": [
    "df.info()"
   ]
  },
  {
   "cell_type": "code",
   "execution_count": 214,
   "id": "1ba3f783",
   "metadata": {},
   "outputs": [
    {
     "data": {
      "text/plain": [
       "array(['China', 'United States', 'Sweden', 'Australia', 'United Kingdom',\n",
       "       'Brazil', 'Hong Kong', 'India', 'Indonesia', 'Germany', 'Mexico',\n",
       "       'Canada', 'Turkey', 'South Korea', 'Netherlands', 'Israel',\n",
       "       'Colombia', 'Belgium', 'Lithuania', 'Estonia', 'France', 'Austria',\n",
       "       'Ireland', 'Singapore', 'Vietnam', 'United Arab Emirates',\n",
       "       'Switzerland', 'Argentina', 'Spain', 'Japan', 'Luxembourg',\n",
       "       'Nigeria', 'Santa Clara', 'Finland', 'Philippines', 'Denmark',\n",
       "       'Senegal', 'Bermuda', 'Norway', 'South Africa', 'Chile',\n",
       "       'Thailand', 'Malaysia', 'Czech Republic', 'Croatia',\n",
       "       'United States,', 'Indonesia,'], dtype=object)"
      ]
     },
     "execution_count": 214,
     "metadata": {},
     "output_type": "execute_result"
    }
   ],
   "source": [
    "df.Country.unique()"
   ]
  },
  {
   "cell_type": "code",
   "execution_count": 215,
   "id": "61673126",
   "metadata": {},
   "outputs": [
    {
     "data": {
      "text/plain": [
       "array(['China', 'United States', 'Sweden', 'Australia', 'United Kingdom',\n",
       "       'Brazil', 'India', 'Indonesia', 'Germany', 'Mexico', 'Canada',\n",
       "       'Turkey', 'South Korea', 'Netherlands', 'Israel', 'Colombia',\n",
       "       'Belgium', 'Lithuania', 'Estonia', 'France', 'Austria', 'Ireland',\n",
       "       'Singapore', 'Vietnam', 'United Arab Emirates', 'Switzerland',\n",
       "       'Argentina', 'Spain', 'Japan', 'Luxembourg', 'Nigeria', 'Finland',\n",
       "       'Philippines', 'Denmark', 'Senegal', 'Bermuda', 'Norway',\n",
       "       'South Africa', 'Chile', 'Thailand', 'Malaysia', 'Czech Republic',\n",
       "       'Croatia', 'United States,', 'Indonesia,'], dtype=object)"
      ]
     },
     "execution_count": 215,
     "metadata": {},
     "output_type": "execute_result"
    }
   ],
   "source": [
    "df[\"Country\"].replace({\"Hong Kong\": \"China\", \"Santa Clara\": \"United States\"}, inplace=True)\n",
    "df.Country.unique()"
   ]
  },
  {
   "cell_type": "code",
   "execution_count": 216,
   "id": "6085665d",
   "metadata": {},
   "outputs": [
    {
     "data": {
      "text/plain": [
       "Company             935\n",
       "Valuation ($B)      192\n",
       "Date Joined         589\n",
       "Country              45\n",
       "City                239\n",
       "Industry             17\n",
       "Select Investors    920\n",
       "dtype: int64"
      ]
     },
     "execution_count": 216,
     "metadata": {},
     "output_type": "execute_result"
    }
   ],
   "source": [
    "df.nunique(axis=0)"
   ]
  },
  {
   "cell_type": "code",
   "execution_count": 217,
   "id": "9e514b72",
   "metadata": {},
   "outputs": [
    {
     "data": {
      "text/plain": [
       "Fintech                                190\n",
       "Internet software & services           167\n",
       "E-commerce & direct-to-consumer        102\n",
       "Artificial intelligence                 69\n",
       "Health                                  63\n",
       "Supply chain, logistics, & delivery     51\n",
       "Other                                   51\n",
       "Cybersecurity                           41\n",
       "Mobile & telecommunications             37\n",
       "Data management & analytics             36\n",
       "Hardware                                32\n",
       "Auto & transportation                   29\n",
       "Edtech                                  27\n",
       "Consumer & retail                       23\n",
       "Travel                                  13\n",
       "Artificial Intelligence                  4\n",
       "Finttech                                 1\n",
       "Name: Industry, dtype: int64"
      ]
     },
     "execution_count": 217,
     "metadata": {},
     "output_type": "execute_result"
    }
   ],
   "source": [
    "df.Industry.value_counts()"
   ]
  },
  {
   "cell_type": "code",
   "execution_count": 218,
   "id": "2f3eeb39",
   "metadata": {},
   "outputs": [
    {
     "data": {
      "text/plain": [
       "Fintech                                191\n",
       "Internet software & services           167\n",
       "E-commerce & direct-to-consumer        102\n",
       "Artificial Intelligence                 73\n",
       "Health                                  63\n",
       "Other                                   51\n",
       "Supply chain, logistics, & delivery     51\n",
       "Cybersecurity                           41\n",
       "Mobile & telecommunications             37\n",
       "Data management & analytics             36\n",
       "Hardware                                32\n",
       "Auto & transportation                   29\n",
       "Edtech                                  27\n",
       "Consumer & retail                       23\n",
       "Travel                                  13\n",
       "Name: Industry, dtype: int64"
      ]
     },
     "execution_count": 218,
     "metadata": {},
     "output_type": "execute_result"
    }
   ],
   "source": [
    "df.loc[df['Industry'] == 'Finttech', 'Industry'] = 'Fintech'\n",
    "df.loc[df['Industry'] == 'Artificial intelligence', 'Industry'] = 'Artificial Intelligence'\n",
    "df.Industry.value_counts()"
   ]
  },
  {
   "cell_type": "code",
   "execution_count": 219,
   "id": "23c9f537",
   "metadata": {},
   "outputs": [],
   "source": [
    "df['Date Joined'] = pd.to_datetime(df['Date Joined'])"
   ]
  },
  {
   "cell_type": "code",
   "execution_count": 220,
   "id": "56ce386b",
   "metadata": {
    "scrolled": true
   },
   "outputs": [
    {
     "name": "stdout",
     "output_type": "stream",
     "text": [
      "<class 'pandas.core.frame.DataFrame'>\n",
      "RangeIndex: 936 entries, 0 to 935\n",
      "Data columns (total 7 columns):\n",
      " #   Column            Non-Null Count  Dtype         \n",
      "---  ------            --------------  -----         \n",
      " 0   Company           936 non-null    object        \n",
      " 1   Valuation ($B)    936 non-null    object        \n",
      " 2   Date Joined       936 non-null    datetime64[ns]\n",
      " 3   Country           936 non-null    object        \n",
      " 4   City              921 non-null    object        \n",
      " 5   Industry          936 non-null    object        \n",
      " 6   Select Investors  935 non-null    object        \n",
      "dtypes: datetime64[ns](1), object(6)\n",
      "memory usage: 51.3+ KB\n"
     ]
    }
   ],
   "source": [
    "df.info()"
   ]
  },
  {
   "cell_type": "code",
   "execution_count": 221,
   "id": "7b1fd81d",
   "metadata": {},
   "outputs": [
    {
     "data": {
      "text/html": [
       "<div>\n",
       "<style scoped>\n",
       "    .dataframe tbody tr th:only-of-type {\n",
       "        vertical-align: middle;\n",
       "    }\n",
       "\n",
       "    .dataframe tbody tr th {\n",
       "        vertical-align: top;\n",
       "    }\n",
       "\n",
       "    .dataframe thead th {\n",
       "        text-align: right;\n",
       "    }\n",
       "</style>\n",
       "<table border=\"1\" class=\"dataframe\">\n",
       "  <thead>\n",
       "    <tr style=\"text-align: right;\">\n",
       "      <th></th>\n",
       "      <th>Company</th>\n",
       "      <th>Valuation ($B)</th>\n",
       "      <th>Date Joined</th>\n",
       "      <th>Country</th>\n",
       "      <th>City</th>\n",
       "      <th>Industry</th>\n",
       "      <th>Select Investors</th>\n",
       "    </tr>\n",
       "  </thead>\n",
       "  <tbody>\n",
       "    <tr>\n",
       "      <th>0</th>\n",
       "      <td>Bytedance</td>\n",
       "      <td>$140</td>\n",
       "      <td>2017-04-07</td>\n",
       "      <td>China</td>\n",
       "      <td>Beijing</td>\n",
       "      <td>Artificial Intelligence</td>\n",
       "      <td>Sequoia Capital China, SIG Asia Investments, S...</td>\n",
       "    </tr>\n",
       "    <tr>\n",
       "      <th>1</th>\n",
       "      <td>SpaceX</td>\n",
       "      <td>$100.3</td>\n",
       "      <td>2012-12-01</td>\n",
       "      <td>United States</td>\n",
       "      <td>Hawthorne</td>\n",
       "      <td>Other</td>\n",
       "      <td>Founders Fund, Draper Fisher Jurvetson, Rothen...</td>\n",
       "    </tr>\n",
       "    <tr>\n",
       "      <th>2</th>\n",
       "      <td>Stripe</td>\n",
       "      <td>$95</td>\n",
       "      <td>2014-01-23</td>\n",
       "      <td>United States</td>\n",
       "      <td>San Francisco</td>\n",
       "      <td>Fintech</td>\n",
       "      <td>Khosla Ventures, LowercaseCapital, capitalG</td>\n",
       "    </tr>\n",
       "    <tr>\n",
       "      <th>3</th>\n",
       "      <td>Klarna</td>\n",
       "      <td>$45.6</td>\n",
       "      <td>2011-12-12</td>\n",
       "      <td>Sweden</td>\n",
       "      <td>Stockholm</td>\n",
       "      <td>Fintech</td>\n",
       "      <td>Institutional Venture Partners, Sequoia Capita...</td>\n",
       "    </tr>\n",
       "    <tr>\n",
       "      <th>4</th>\n",
       "      <td>Canva</td>\n",
       "      <td>$40</td>\n",
       "      <td>2018-01-08</td>\n",
       "      <td>Australia</td>\n",
       "      <td>Surry Hills</td>\n",
       "      <td>Internet software &amp; services</td>\n",
       "      <td>Sequoia Capital China, Blackbird Ventures, Mat...</td>\n",
       "    </tr>\n",
       "  </tbody>\n",
       "</table>\n",
       "</div>"
      ],
      "text/plain": [
       "     Company Valuation ($B) Date Joined        Country           City  \\\n",
       "0  Bytedance           $140  2017-04-07          China        Beijing   \n",
       "1     SpaceX         $100.3  2012-12-01  United States      Hawthorne   \n",
       "2     Stripe            $95  2014-01-23  United States  San Francisco   \n",
       "3     Klarna          $45.6  2011-12-12         Sweden      Stockholm   \n",
       "4      Canva            $40  2018-01-08      Australia    Surry Hills   \n",
       "\n",
       "                       Industry  \\\n",
       "0       Artificial Intelligence   \n",
       "1                         Other   \n",
       "2                       Fintech   \n",
       "3                       Fintech   \n",
       "4  Internet software & services   \n",
       "\n",
       "                                    Select Investors  \n",
       "0  Sequoia Capital China, SIG Asia Investments, S...  \n",
       "1  Founders Fund, Draper Fisher Jurvetson, Rothen...  \n",
       "2        Khosla Ventures, LowercaseCapital, capitalG  \n",
       "3  Institutional Venture Partners, Sequoia Capita...  \n",
       "4  Sequoia Capital China, Blackbird Ventures, Mat...  "
      ]
     },
     "execution_count": 221,
     "metadata": {},
     "output_type": "execute_result"
    }
   ],
   "source": [
    "df.head()"
   ]
  },
  {
   "cell_type": "code",
   "execution_count": 222,
   "id": "8952f97d",
   "metadata": {},
   "outputs": [
    {
     "name": "stderr",
     "output_type": "stream",
     "text": [
      "C:\\Users\\DELL\\AppData\\Local\\Temp\\ipykernel_6384\\3993831733.py:1: FutureWarning: The default value of regex will change from True to False in a future version. In addition, single character regular expressions will *not* be treated as literal strings when regex=True.\n",
      "  df['Valuation ($B)']=df['Valuation ($B)'].str.replace('$', '')\n"
     ]
    }
   ],
   "source": [
    "df['Valuation ($B)']=df['Valuation ($B)'].str.replace('$', '')\n",
    "df['Valuation ($B)']=df['Valuation ($B)'].astype(float)"
   ]
  },
  {
   "cell_type": "code",
   "execution_count": 223,
   "id": "66fe9677",
   "metadata": {},
   "outputs": [
    {
     "data": {
      "text/html": [
       "<div>\n",
       "<style scoped>\n",
       "    .dataframe tbody tr th:only-of-type {\n",
       "        vertical-align: middle;\n",
       "    }\n",
       "\n",
       "    .dataframe tbody tr th {\n",
       "        vertical-align: top;\n",
       "    }\n",
       "\n",
       "    .dataframe thead th {\n",
       "        text-align: right;\n",
       "    }\n",
       "</style>\n",
       "<table border=\"1\" class=\"dataframe\">\n",
       "  <thead>\n",
       "    <tr style=\"text-align: right;\">\n",
       "      <th></th>\n",
       "      <th>Company</th>\n",
       "      <th>Valuation ($B)</th>\n",
       "      <th>Date Joined</th>\n",
       "      <th>Country</th>\n",
       "      <th>City</th>\n",
       "      <th>Industry</th>\n",
       "      <th>Select Investors</th>\n",
       "    </tr>\n",
       "  </thead>\n",
       "  <tbody>\n",
       "    <tr>\n",
       "      <th>0</th>\n",
       "      <td>Bytedance</td>\n",
       "      <td>140.0</td>\n",
       "      <td>2017-04-07</td>\n",
       "      <td>China</td>\n",
       "      <td>Beijing</td>\n",
       "      <td>Artificial Intelligence</td>\n",
       "      <td>Sequoia Capital China, SIG Asia Investments, S...</td>\n",
       "    </tr>\n",
       "    <tr>\n",
       "      <th>1</th>\n",
       "      <td>SpaceX</td>\n",
       "      <td>100.3</td>\n",
       "      <td>2012-12-01</td>\n",
       "      <td>United States</td>\n",
       "      <td>Hawthorne</td>\n",
       "      <td>Other</td>\n",
       "      <td>Founders Fund, Draper Fisher Jurvetson, Rothen...</td>\n",
       "    </tr>\n",
       "    <tr>\n",
       "      <th>2</th>\n",
       "      <td>Stripe</td>\n",
       "      <td>95.0</td>\n",
       "      <td>2014-01-23</td>\n",
       "      <td>United States</td>\n",
       "      <td>San Francisco</td>\n",
       "      <td>Fintech</td>\n",
       "      <td>Khosla Ventures, LowercaseCapital, capitalG</td>\n",
       "    </tr>\n",
       "    <tr>\n",
       "      <th>3</th>\n",
       "      <td>Klarna</td>\n",
       "      <td>45.6</td>\n",
       "      <td>2011-12-12</td>\n",
       "      <td>Sweden</td>\n",
       "      <td>Stockholm</td>\n",
       "      <td>Fintech</td>\n",
       "      <td>Institutional Venture Partners, Sequoia Capita...</td>\n",
       "    </tr>\n",
       "    <tr>\n",
       "      <th>4</th>\n",
       "      <td>Canva</td>\n",
       "      <td>40.0</td>\n",
       "      <td>2018-01-08</td>\n",
       "      <td>Australia</td>\n",
       "      <td>Surry Hills</td>\n",
       "      <td>Internet software &amp; services</td>\n",
       "      <td>Sequoia Capital China, Blackbird Ventures, Mat...</td>\n",
       "    </tr>\n",
       "  </tbody>\n",
       "</table>\n",
       "</div>"
      ],
      "text/plain": [
       "     Company  Valuation ($B) Date Joined        Country           City  \\\n",
       "0  Bytedance           140.0  2017-04-07          China        Beijing   \n",
       "1     SpaceX           100.3  2012-12-01  United States      Hawthorne   \n",
       "2     Stripe            95.0  2014-01-23  United States  San Francisco   \n",
       "3     Klarna            45.6  2011-12-12         Sweden      Stockholm   \n",
       "4      Canva            40.0  2018-01-08      Australia    Surry Hills   \n",
       "\n",
       "                       Industry  \\\n",
       "0       Artificial Intelligence   \n",
       "1                         Other   \n",
       "2                       Fintech   \n",
       "3                       Fintech   \n",
       "4  Internet software & services   \n",
       "\n",
       "                                    Select Investors  \n",
       "0  Sequoia Capital China, SIG Asia Investments, S...  \n",
       "1  Founders Fund, Draper Fisher Jurvetson, Rothen...  \n",
       "2        Khosla Ventures, LowercaseCapital, capitalG  \n",
       "3  Institutional Venture Partners, Sequoia Capita...  \n",
       "4  Sequoia Capital China, Blackbird Ventures, Mat...  "
      ]
     },
     "execution_count": 223,
     "metadata": {},
     "output_type": "execute_result"
    }
   ],
   "source": [
    "df.head()"
   ]
  },
  {
   "cell_type": "code",
   "execution_count": null,
   "id": "2ece15a5",
   "metadata": {},
   "outputs": [],
   "source": [
    "\n"
   ]
  },
  {
   "cell_type": "code",
   "execution_count": null,
   "id": "b67d5b53",
   "metadata": {},
   "outputs": [],
   "source": []
  },
  {
   "cell_type": "code",
   "execution_count": 224,
   "id": "406fdb78",
   "metadata": {},
   "outputs": [
    {
     "data": {
      "text/html": [
       "<div>\n",
       "<style scoped>\n",
       "    .dataframe tbody tr th:only-of-type {\n",
       "        vertical-align: middle;\n",
       "    }\n",
       "\n",
       "    .dataframe tbody tr th {\n",
       "        vertical-align: top;\n",
       "    }\n",
       "\n",
       "    .dataframe thead th {\n",
       "        text-align: right;\n",
       "    }\n",
       "</style>\n",
       "<table border=\"1\" class=\"dataframe\">\n",
       "  <thead>\n",
       "    <tr style=\"text-align: right;\">\n",
       "      <th></th>\n",
       "      <th>Company</th>\n",
       "      <th>Valuation ($B)</th>\n",
       "      <th>Date Joined</th>\n",
       "      <th>Country</th>\n",
       "      <th>City</th>\n",
       "      <th>Industry</th>\n",
       "      <th>Select Investors</th>\n",
       "    </tr>\n",
       "  </thead>\n",
       "  <tbody>\n",
       "    <tr>\n",
       "      <th>0</th>\n",
       "      <td>Bytedance</td>\n",
       "      <td>140.0</td>\n",
       "      <td>2017-04-07</td>\n",
       "      <td>China</td>\n",
       "      <td>Beijing</td>\n",
       "      <td>Artificial Intelligence</td>\n",
       "      <td>Sequoia Capital China, SIG Asia Investments, S...</td>\n",
       "    </tr>\n",
       "    <tr>\n",
       "      <th>1</th>\n",
       "      <td>SpaceX</td>\n",
       "      <td>100.3</td>\n",
       "      <td>2012-12-01</td>\n",
       "      <td>United States</td>\n",
       "      <td>Hawthorne</td>\n",
       "      <td>Other</td>\n",
       "      <td>Founders Fund, Draper Fisher Jurvetson, Rothen...</td>\n",
       "    </tr>\n",
       "    <tr>\n",
       "      <th>2</th>\n",
       "      <td>Stripe</td>\n",
       "      <td>95.0</td>\n",
       "      <td>2014-01-23</td>\n",
       "      <td>United States</td>\n",
       "      <td>San Francisco</td>\n",
       "      <td>Fintech</td>\n",
       "      <td>Khosla Ventures, LowercaseCapital, capitalG</td>\n",
       "    </tr>\n",
       "    <tr>\n",
       "      <th>3</th>\n",
       "      <td>Klarna</td>\n",
       "      <td>45.6</td>\n",
       "      <td>2011-12-12</td>\n",
       "      <td>Sweden</td>\n",
       "      <td>Stockholm</td>\n",
       "      <td>Fintech</td>\n",
       "      <td>Institutional Venture Partners, Sequoia Capita...</td>\n",
       "    </tr>\n",
       "    <tr>\n",
       "      <th>4</th>\n",
       "      <td>Canva</td>\n",
       "      <td>40.0</td>\n",
       "      <td>2018-01-08</td>\n",
       "      <td>Australia</td>\n",
       "      <td>Surry Hills</td>\n",
       "      <td>Internet software &amp; services</td>\n",
       "      <td>Sequoia Capital China, Blackbird Ventures, Mat...</td>\n",
       "    </tr>\n",
       "  </tbody>\n",
       "</table>\n",
       "</div>"
      ],
      "text/plain": [
       "     Company  Valuation ($B) Date Joined        Country           City  \\\n",
       "0  Bytedance           140.0  2017-04-07          China        Beijing   \n",
       "1     SpaceX           100.3  2012-12-01  United States      Hawthorne   \n",
       "2     Stripe            95.0  2014-01-23  United States  San Francisco   \n",
       "3     Klarna            45.6  2011-12-12         Sweden      Stockholm   \n",
       "4      Canva            40.0  2018-01-08      Australia    Surry Hills   \n",
       "\n",
       "                       Industry  \\\n",
       "0       Artificial Intelligence   \n",
       "1                         Other   \n",
       "2                       Fintech   \n",
       "3                       Fintech   \n",
       "4  Internet software & services   \n",
       "\n",
       "                                    Select Investors  \n",
       "0  Sequoia Capital China, SIG Asia Investments, S...  \n",
       "1  Founders Fund, Draper Fisher Jurvetson, Rothen...  \n",
       "2        Khosla Ventures, LowercaseCapital, capitalG  \n",
       "3  Institutional Venture Partners, Sequoia Capita...  \n",
       "4  Sequoia Capital China, Blackbird Ventures, Mat...  "
      ]
     },
     "execution_count": 224,
     "metadata": {},
     "output_type": "execute_result"
    }
   ],
   "source": [
    "df.head()"
   ]
  },
  {
   "cell_type": "code",
   "execution_count": 225,
   "id": "775a15dd",
   "metadata": {},
   "outputs": [
    {
     "name": "stdout",
     "output_type": "stream",
     "text": [
      "<class 'pandas.core.frame.DataFrame'>\n",
      "RangeIndex: 936 entries, 0 to 935\n",
      "Data columns (total 7 columns):\n",
      " #   Column            Non-Null Count  Dtype         \n",
      "---  ------            --------------  -----         \n",
      " 0   Company           936 non-null    object        \n",
      " 1   Valuation ($B)    936 non-null    float64       \n",
      " 2   Date Joined       936 non-null    datetime64[ns]\n",
      " 3   Country           936 non-null    object        \n",
      " 4   City              921 non-null    object        \n",
      " 5   Industry          936 non-null    object        \n",
      " 6   Select Investors  935 non-null    object        \n",
      "dtypes: datetime64[ns](1), float64(1), object(5)\n",
      "memory usage: 51.3+ KB\n"
     ]
    }
   ],
   "source": [
    "df.info()"
   ]
  },
  {
   "cell_type": "code",
   "execution_count": 226,
   "id": "f0a9aa65",
   "metadata": {},
   "outputs": [],
   "source": [
    "import plotly.express as px\n"
   ]
  },
  {
   "cell_type": "code",
   "execution_count": null,
   "id": "c3d75d6a",
   "metadata": {},
   "outputs": [],
   "source": []
  },
  {
   "cell_type": "code",
   "execution_count": null,
   "id": "d909837c",
   "metadata": {},
   "outputs": [],
   "source": []
  },
  {
   "cell_type": "code",
   "execution_count": 227,
   "id": "80d11393",
   "metadata": {},
   "outputs": [
    {
     "data": {
      "text/plain": [
       "<AxesSubplot:ylabel='Industry'>"
      ]
     },
     "execution_count": 227,
     "metadata": {},
     "output_type": "execute_result"
    },
    {
     "data": {
      "image/png": "[encoded data removed]",
      "text/plain": [
       "<Figure size 720x576 with 1 Axes>"
      ]
     },
     "metadata": {
      "needs_background": "light"
     },
     "output_type": "display_data"
    }
   ],
   "source": [
    "df.groupby('Industry')['Valuation ($B)'].sum().sort_values(ascending=True).plot.barh(figsize=(10,8))"
   ]
  },
  {
   "cell_type": "code",
   "execution_count": 228,
   "id": "4da70bc5",
   "metadata": {},
   "outputs": [
    {
     "data": {
      "text/html": [
       "<div>\n",
       "<style scoped>\n",
       "    .dataframe tbody tr th:only-of-type {\n",
       "        vertical-align: middle;\n",
       "    }\n",
       "\n",
       "    .dataframe tbody tr th {\n",
       "        vertical-align: top;\n",
       "    }\n",
       "\n",
       "    .dataframe thead th {\n",
       "        text-align: right;\n",
       "    }\n",
       "</style>\n",
       "<table border=\"1\" class=\"dataframe\">\n",
       "  <thead>\n",
       "    <tr style=\"text-align: right;\">\n",
       "      <th></th>\n",
       "      <th>Company</th>\n",
       "      <th>Valuation ($B)</th>\n",
       "      <th>Date Joined</th>\n",
       "      <th>Country</th>\n",
       "      <th>City</th>\n",
       "      <th>Industry</th>\n",
       "      <th>Select Investors</th>\n",
       "    </tr>\n",
       "  </thead>\n",
       "  <tbody>\n",
       "    <tr>\n",
       "      <th>0</th>\n",
       "      <td>Bytedance</td>\n",
       "      <td>140.0</td>\n",
       "      <td>2017-04-07</td>\n",
       "      <td>China</td>\n",
       "      <td>Beijing</td>\n",
       "      <td>Artificial Intelligence</td>\n",
       "      <td>Sequoia Capital China, SIG Asia Investments, S...</td>\n",
       "    </tr>\n",
       "    <tr>\n",
       "      <th>1</th>\n",
       "      <td>SpaceX</td>\n",
       "      <td>100.3</td>\n",
       "      <td>2012-12-01</td>\n",
       "      <td>United States</td>\n",
       "      <td>Hawthorne</td>\n",
       "      <td>Other</td>\n",
       "      <td>Founders Fund, Draper Fisher Jurvetson, Rothen...</td>\n",
       "    </tr>\n",
       "    <tr>\n",
       "      <th>2</th>\n",
       "      <td>Stripe</td>\n",
       "      <td>95.0</td>\n",
       "      <td>2014-01-23</td>\n",
       "      <td>United States</td>\n",
       "      <td>San Francisco</td>\n",
       "      <td>Fintech</td>\n",
       "      <td>Khosla Ventures, LowercaseCapital, capitalG</td>\n",
       "    </tr>\n",
       "    <tr>\n",
       "      <th>3</th>\n",
       "      <td>Klarna</td>\n",
       "      <td>45.6</td>\n",
       "      <td>2011-12-12</td>\n",
       "      <td>Sweden</td>\n",
       "      <td>Stockholm</td>\n",
       "      <td>Fintech</td>\n",
       "      <td>Institutional Venture Partners, Sequoia Capita...</td>\n",
       "    </tr>\n",
       "    <tr>\n",
       "      <th>4</th>\n",
       "      <td>Canva</td>\n",
       "      <td>40.0</td>\n",
       "      <td>2018-01-08</td>\n",
       "      <td>Australia</td>\n",
       "      <td>Surry Hills</td>\n",
       "      <td>Internet software &amp; services</td>\n",
       "      <td>Sequoia Capital China, Blackbird Ventures, Mat...</td>\n",
       "    </tr>\n",
       "  </tbody>\n",
       "</table>\n",
       "</div>"
      ],
      "text/plain": [
       "     Company  Valuation ($B) Date Joined        Country           City  \\\n",
       "0  Bytedance           140.0  2017-04-07          China        Beijing   \n",
       "1     SpaceX           100.3  2012-12-01  United States      Hawthorne   \n",
       "2     Stripe            95.0  2014-01-23  United States  San Francisco   \n",
       "3     Klarna            45.6  2011-12-12         Sweden      Stockholm   \n",
       "4      Canva            40.0  2018-01-08      Australia    Surry Hills   \n",
       "\n",
       "                       Industry  \\\n",
       "0       Artificial Intelligence   \n",
       "1                         Other   \n",
       "2                       Fintech   \n",
       "3                       Fintech   \n",
       "4  Internet software & services   \n",
       "\n",
       "                                    Select Investors  \n",
       "0  Sequoia Capital China, SIG Asia Investments, S...  \n",
       "1  Founders Fund, Draper Fisher Jurvetson, Rothen...  \n",
       "2        Khosla Ventures, LowercaseCapital, capitalG  \n",
       "3  Institutional Venture Partners, Sequoia Capita...  \n",
       "4  Sequoia Capital China, Blackbird Ventures, Mat...  "
      ]
     },
     "execution_count": 228,
     "metadata": {},
     "output_type": "execute_result"
    }
   ],
   "source": [
    "df.head()"
   ]
  },
  {
   "cell_type": "code",
   "execution_count": 229,
   "id": "45eed771",
   "metadata": {},
   "outputs": [],
   "source": [
    "df['Date Joined'] = pd.to_datetime(df['Date Joined'],unit='s')\n",
    "df['Year']=df['Date Joined'].dt.year\n",
    "df=df.drop(['Date Joined'], axis=1)"
   ]
  },
  {
   "cell_type": "code",
   "execution_count": 230,
   "id": "f8addd3d",
   "metadata": {},
   "outputs": [
    {
     "data": {
      "text/html": [
       "<div>\n",
       "<style scoped>\n",
       "    .dataframe tbody tr th:only-of-type {\n",
       "        vertical-align: middle;\n",
       "    }\n",
       "\n",
       "    .dataframe tbody tr th {\n",
       "        vertical-align: top;\n",
       "    }\n",
       "\n",
       "    .dataframe thead th {\n",
       "        text-align: right;\n",
       "    }\n",
       "</style>\n",
       "<table border=\"1\" class=\"dataframe\">\n",
       "  <thead>\n",
       "    <tr style=\"text-align: right;\">\n",
       "      <th></th>\n",
       "      <th>Company</th>\n",
       "      <th>Valuation ($B)</th>\n",
       "      <th>Country</th>\n",
       "      <th>City</th>\n",
       "      <th>Industry</th>\n",
       "      <th>Select Investors</th>\n",
       "      <th>Year</th>\n",
       "    </tr>\n",
       "  </thead>\n",
       "  <tbody>\n",
       "    <tr>\n",
       "      <th>0</th>\n",
       "      <td>Bytedance</td>\n",
       "      <td>140.0</td>\n",
       "      <td>China</td>\n",
       "      <td>Beijing</td>\n",
       "      <td>Artificial Intelligence</td>\n",
       "      <td>Sequoia Capital China, SIG Asia Investments, S...</td>\n",
       "      <td>2017</td>\n",
       "    </tr>\n",
       "    <tr>\n",
       "      <th>1</th>\n",
       "      <td>SpaceX</td>\n",
       "      <td>100.3</td>\n",
       "      <td>United States</td>\n",
       "      <td>Hawthorne</td>\n",
       "      <td>Other</td>\n",
       "      <td>Founders Fund, Draper Fisher Jurvetson, Rothen...</td>\n",
       "      <td>2012</td>\n",
       "    </tr>\n",
       "    <tr>\n",
       "      <th>2</th>\n",
       "      <td>Stripe</td>\n",
       "      <td>95.0</td>\n",
       "      <td>United States</td>\n",
       "      <td>San Francisco</td>\n",
       "      <td>Fintech</td>\n",
       "      <td>Khosla Ventures, LowercaseCapital, capitalG</td>\n",
       "      <td>2014</td>\n",
       "    </tr>\n",
       "    <tr>\n",
       "      <th>3</th>\n",
       "      <td>Klarna</td>\n",
       "      <td>45.6</td>\n",
       "      <td>Sweden</td>\n",
       "      <td>Stockholm</td>\n",
       "      <td>Fintech</td>\n",
       "      <td>Institutional Venture Partners, Sequoia Capita...</td>\n",
       "      <td>2011</td>\n",
       "    </tr>\n",
       "    <tr>\n",
       "      <th>4</th>\n",
       "      <td>Canva</td>\n",
       "      <td>40.0</td>\n",
       "      <td>Australia</td>\n",
       "      <td>Surry Hills</td>\n",
       "      <td>Internet software &amp; services</td>\n",
       "      <td>Sequoia Capital China, Blackbird Ventures, Mat...</td>\n",
       "      <td>2018</td>\n",
       "    </tr>\n",
       "  </tbody>\n",
       "</table>\n",
       "</div>"
      ],
      "text/plain": [
       "     Company  Valuation ($B)        Country           City  \\\n",
       "0  Bytedance           140.0          China        Beijing   \n",
       "1     SpaceX           100.3  United States      Hawthorne   \n",
       "2     Stripe            95.0  United States  San Francisco   \n",
       "3     Klarna            45.6         Sweden      Stockholm   \n",
       "4      Canva            40.0      Australia    Surry Hills   \n",
       "\n",
       "                       Industry  \\\n",
       "0       Artificial Intelligence   \n",
       "1                         Other   \n",
       "2                       Fintech   \n",
       "3                       Fintech   \n",
       "4  Internet software & services   \n",
       "\n",
       "                                    Select Investors  Year  \n",
       "0  Sequoia Capital China, SIG Asia Investments, S...  2017  \n",
       "1  Founders Fund, Draper Fisher Jurvetson, Rothen...  2012  \n",
       "2        Khosla Ventures, LowercaseCapital, capitalG  2014  \n",
       "3  Institutional Venture Partners, Sequoia Capita...  2011  \n",
       "4  Sequoia Capital China, Blackbird Ventures, Mat...  2018  "
      ]
     },
     "execution_count": 230,
     "metadata": {},
     "output_type": "execute_result"
    }
   ],
   "source": [
    "df.head()"
   ]
  },
  {
   "cell_type": "code",
   "execution_count": 232,
   "id": "21b5a8f9",
   "metadata": {},
   "outputs": [],
   "source": [
    "df['Year'] = pd.to_datetime(df['Year'])"
   ]
  },
  {
   "cell_type": "code",
   "execution_count": 233,
   "id": "ba7b5da1",
   "metadata": {},
   "outputs": [
    {
     "data": {
      "text/html": [
       "<div>\n",
       "<style scoped>\n",
       "    .dataframe tbody tr th:only-of-type {\n",
       "        vertical-align: middle;\n",
       "    }\n",
       "\n",
       "    .dataframe tbody tr th {\n",
       "        vertical-align: top;\n",
       "    }\n",
       "\n",
       "    .dataframe thead th {\n",
       "        text-align: right;\n",
       "    }\n",
       "</style>\n",
       "<table border=\"1\" class=\"dataframe\">\n",
       "  <thead>\n",
       "    <tr style=\"text-align: right;\">\n",
       "      <th></th>\n",
       "      <th>Valuation ($B)</th>\n",
       "    </tr>\n",
       "    <tr>\n",
       "      <th>Industry</th>\n",
       "      <th></th>\n",
       "    </tr>\n",
       "  </thead>\n",
       "  <tbody>\n",
       "    <tr>\n",
       "      <th>Fintech</th>\n",
       "      <td>744.13</td>\n",
       "    </tr>\n",
       "    <tr>\n",
       "      <th>Internet software &amp; services</th>\n",
       "      <td>483.76</td>\n",
       "    </tr>\n",
       "    <tr>\n",
       "      <th>Artificial Intelligence</th>\n",
       "      <td>312.84</td>\n",
       "    </tr>\n",
       "    <tr>\n",
       "      <th>E-commerce &amp; direct-to-consumer</th>\n",
       "      <td>291.10</td>\n",
       "    </tr>\n",
       "    <tr>\n",
       "      <th>Other</th>\n",
       "      <td>245.46</td>\n",
       "    </tr>\n",
       "    <tr>\n",
       "      <th>Health</th>\n",
       "      <td>166.26</td>\n",
       "    </tr>\n",
       "    <tr>\n",
       "      <th>Supply chain, logistics, &amp; delivery</th>\n",
       "      <td>146.29</td>\n",
       "    </tr>\n",
       "    <tr>\n",
       "      <th>Data management &amp; analytics</th>\n",
       "      <td>121.70</td>\n",
       "    </tr>\n",
       "    <tr>\n",
       "      <th>Cybersecurity</th>\n",
       "      <td>107.54</td>\n",
       "    </tr>\n",
       "    <tr>\n",
       "      <th>Hardware</th>\n",
       "      <td>98.59</td>\n",
       "    </tr>\n",
       "    <tr>\n",
       "      <th>Auto &amp; transportation</th>\n",
       "      <td>89.30</td>\n",
       "    </tr>\n",
       "    <tr>\n",
       "      <th>Edtech</th>\n",
       "      <td>85.37</td>\n",
       "    </tr>\n",
       "    <tr>\n",
       "      <th>Mobile &amp; telecommunications</th>\n",
       "      <td>79.09</td>\n",
       "    </tr>\n",
       "    <tr>\n",
       "      <th>Consumer &amp; retail</th>\n",
       "      <td>64.13</td>\n",
       "    </tr>\n",
       "    <tr>\n",
       "      <th>Travel</th>\n",
       "      <td>35.60</td>\n",
       "    </tr>\n",
       "  </tbody>\n",
       "</table>\n",
       "</div>"
      ],
      "text/plain": [
       "                                     Valuation ($B)\n",
       "Industry                                           \n",
       "Fintech                                      744.13\n",
       "Internet software & services                 483.76\n",
       "Artificial Intelligence                      312.84\n",
       "E-commerce & direct-to-consumer              291.10\n",
       "Other                                        245.46\n",
       "Health                                       166.26\n",
       "Supply chain, logistics, & delivery          146.29\n",
       "Data management & analytics                  121.70\n",
       "Cybersecurity                                107.54\n",
       "Hardware                                      98.59\n",
       "Auto & transportation                         89.30\n",
       "Edtech                                        85.37\n",
       "Mobile & telecommunications                   79.09\n",
       "Consumer & retail                             64.13\n",
       "Travel                                        35.60"
      ]
     },
     "execution_count": 233,
     "metadata": {},
     "output_type": "execute_result"
    }
   ],
   "source": [
    "industry_value = df.groupby(by='Industry').sum().sort_values(by='Valuation ($B)', ascending=False)\n",
    "industry_value"
   ]
  },
  {
   "cell_type": "code",
   "execution_count": null,
   "id": "5ecafdf5",
   "metadata": {},
   "outputs": [],
   "source": []
  },
  {
   "cell_type": "code",
   "execution_count": 234,
   "id": "fef62db6",
   "metadata": {},
   "outputs": [
    {
     "data": {
      "image/png": "[encoded data removed]",
      "text/plain": [
       "<Figure size 432x288 with 1 Axes>"
      ]
     },
     "metadata": {
      "needs_background": "light"
     },
     "output_type": "display_data"
    }
   ],
   "source": [
    "g = sns.barplot(data=industry_value, x = industry_value.index, y = 'Valuation ($B)')\n",
    "g.set_xticklabels(g.get_xticklabels(), rotation=90);"
   ]
  },
  {
   "cell_type": "markdown",
   "id": "de8d6662",
   "metadata": {},
   "source": [
    "MARKET SHARED BY DIFFERENT INDUXTRIES"
   ]
  },
  {
   "cell_type": "code",
   "execution_count": 235,
   "id": "7d121013",
   "metadata": {},
   "outputs": [
    {
     "data": {
      "image/png": "[encoded data removed]",
      "text/plain": [
       "<Figure size 432x288 with 1 Axes>"
      ]
     },
     "metadata": {
      "needs_background": "light"
     },
     "output_type": "display_data"
    }
   ],
   "source": [
    "industry_value_per = industry_value['Valuation ($B)'].apply(lambda x: (x/ industry_value.sum()) * 100).round(2)\n",
    "g = sns.barplot(data=industry_value_per, x = industry_value_per.index, y = 'Valuation ($B)')\n",
    "g.set_xticklabels(g.get_xticklabels(), rotation=90)\n",
    "g.set_ylabel('Value as share of Market (%)');"
   ]
  },
  {
   "cell_type": "code",
   "execution_count": 236,
   "id": "4853f090",
   "metadata": {},
   "outputs": [
    {
     "data": {
      "image/png": "[encoded data removed]",
      "text/plain": [
       "<Figure size 432x288 with 1 Axes>"
      ]
     },
     "metadata": {
      "needs_background": "light"
     },
     "output_type": "display_data"
    }
   ],
   "source": [
    "unicorns_bycountry= df.groupby(by='Country').sum().sort_values(by='Valuation ($B)', ascending=False)\n",
    "g = sns.barplot(data=unicorns_bycountry, x =unicorns_bycountry.index, y = 'Valuation ($B)')\n",
    "g.set_xticklabels(g.get_xticklabels(), rotation=90);"
   ]
  },
  {
   "cell_type": "markdown",
   "id": "236e1fe9",
   "metadata": {},
   "source": [
    "The Average Amount of Investment by years"
   ]
  },
  {
   "cell_type": "code",
   "execution_count": 237,
   "id": "7359ce3a",
   "metadata": {
    "scrolled": true
   },
   "outputs": [
    {
     "data": {
      "text/plain": [
       "<AxesSubplot:xlabel='Year'>"
      ]
     },
     "execution_count": 237,
     "metadata": {},
     "output_type": "execute_result"
    },
    {
     "data": {
      "image/png": "[encoded data removed]",
      "text/plain": [
       "<Figure size 720x576 with 1 Axes>"
      ]
     },
     "metadata": {
      "needs_background": "light"
     },
     "output_type": "display_data"
    }
   ],
   "source": [
    "df.groupby('Year')['Valuation ($B)'].mean().plot(kind='bar',figsize=(10,8))"
   ]
  },
  {
   "cell_type": "markdown",
   "id": "82c3d0d1",
   "metadata": {},
   "source": [
    "The Total Amount of Investment by years 2007 to 2021 - INDIA\n"
   ]
  },
  {
   "cell_type": "code",
   "execution_count": 197,
   "id": "c57fe3a9",
   "metadata": {},
   "outputs": [
    {
     "data": {
      "text/plain": [
       "<AxesSubplot:xlabel='Year'>"
      ]
     },
     "execution_count": 197,
     "metadata": {},
     "output_type": "execute_result"
    },
    {
     "data": {
      "image/png": "[encoded data removed]",
      "text/plain": [
       "<Figure size 720x576 with 1 Axes>"
      ]
     },
     "metadata": {
      "needs_background": "light"
     },
     "output_type": "display_data"
    }
   ],
   "source": [
    "df_India=df[df['Country']=='India']\n",
    "df_India.groupby('Year')['Valuation ($B)'].sum().plot.bar(figsize=(10,8))"
   ]
  },
  {
   "cell_type": "code",
   "execution_count": 248,
   "id": "5f70433f",
   "metadata": {},
   "outputs": [
    {
     "data": {
      "text/plain": [
       "<AxesSubplot:xlabel='City'>"
      ]
     },
     "execution_count": 248,
     "metadata": {},
     "output_type": "execute_result"
    },
    {
     "data": {
      "image/png": "[encoded data removed]",
      "text/plain": [
       "<Figure size 720x720 with 1 Axes>"
      ]
     },
     "metadata": {
      "needs_background": "light"
     },
     "output_type": "display_data"
    }
   ],
   "source": [
    "\n",
    "df.groupby('City')['Valuation ($B)'].sum().sort_values(ascending=False).head(30).plot.bar(figsize=(10,10))"
   ]
  },
  {
   "cell_type": "code",
   "execution_count": 255,
   "id": "159ad503",
   "metadata": {},
   "outputs": [
    {
     "data": {
      "text/plain": [
       "Bengaluru      25\n",
       "Gurgaon         7\n",
       "Mumbai          5\n",
       "Gurugram        3\n",
       "New Delhi       2\n",
       "Pune            2\n",
       "Noida           1\n",
       "Faridabad       1\n",
       "Thane           1\n",
       "Bangalore       1\n",
       "Chennai         1\n",
       "Jaipur          1\n",
       "Maharashtra     1\n",
       "Name: City, dtype: int64"
      ]
     },
     "execution_count": 255,
     "metadata": {},
     "output_type": "execute_result"
    }
   ],
   "source": [
    "df_india=df[df.Country=='India']\n",
    "\n",
    "df_india.City.value_counts()"
   ]
  },
  {
   "cell_type": "code",
   "execution_count": 256,
   "id": "c83c6b4d",
   "metadata": {},
   "outputs": [
    {
     "data": {
      "text/plain": [
       "Fintech                                12\n",
       "E-commerce & direct-to-consumer        12\n",
       "Internet software & services            8\n",
       "Supply chain, logistics, & delivery     6\n",
       "Edtech                                  5\n",
       "Auto & transportation                   2\n",
       "Health                                  2\n",
       "Other                                   2\n",
       "Travel                                  1\n",
       "Mobile & telecommunications             1\n",
       "Name: Industry, dtype: int64"
      ]
     },
     "execution_count": 256,
     "metadata": {},
     "output_type": "execute_result"
    }
   ],
   "source": [
    "df_india.Industry.value_counts()"
   ]
  },
  {
   "cell_type": "code",
   "execution_count": 258,
   "id": "d87d51cc",
   "metadata": {},
   "outputs": [
    {
     "data": {
      "text/html": [
       "<div>\n",
       "<style scoped>\n",
       "    .dataframe tbody tr th:only-of-type {\n",
       "        vertical-align: middle;\n",
       "    }\n",
       "\n",
       "    .dataframe tbody tr th {\n",
       "        vertical-align: top;\n",
       "    }\n",
       "\n",
       "    .dataframe thead th {\n",
       "        text-align: right;\n",
       "    }\n",
       "</style>\n",
       "<table border=\"1\" class=\"dataframe\">\n",
       "  <thead>\n",
       "    <tr style=\"text-align: right;\">\n",
       "      <th></th>\n",
       "      <th>Company</th>\n",
       "      <th>Valuation ($B)</th>\n",
       "      <th>Industry</th>\n",
       "      <th>Year</th>\n",
       "    </tr>\n",
       "  </thead>\n",
       "  <tbody>\n",
       "    <tr>\n",
       "      <th>12</th>\n",
       "      <td>BYJU's</td>\n",
       "      <td>21.00</td>\n",
       "      <td>Edtech</td>\n",
       "      <td>1970-01-01 00:00:00.000002017</td>\n",
       "    </tr>\n",
       "    <tr>\n",
       "      <th>53</th>\n",
       "      <td>OYO Rooms</td>\n",
       "      <td>9.60</td>\n",
       "      <td>Travel</td>\n",
       "      <td>1970-01-01 00:00:00.000002018</td>\n",
       "    </tr>\n",
       "    <tr>\n",
       "      <th>62</th>\n",
       "      <td>Dream11</td>\n",
       "      <td>8.00</td>\n",
       "      <td>Internet software &amp; services</td>\n",
       "      <td>1970-01-01 00:00:00.000002019</td>\n",
       "    </tr>\n",
       "    <tr>\n",
       "      <th>80</th>\n",
       "      <td>National Stock Exchange of India</td>\n",
       "      <td>6.50</td>\n",
       "      <td>Fintech</td>\n",
       "      <td>1970-01-01 00:00:00.000002020</td>\n",
       "    </tr>\n",
       "    <tr>\n",
       "      <th>83</th>\n",
       "      <td>Ola Cabs</td>\n",
       "      <td>7.50</td>\n",
       "      <td>Auto &amp; transportation</td>\n",
       "      <td>1970-01-01 00:00:00.000002014</td>\n",
       "    </tr>\n",
       "    <tr>\n",
       "      <th>115</th>\n",
       "      <td>Swiggy</td>\n",
       "      <td>5.50</td>\n",
       "      <td>Supply chain, logistics, &amp; delivery</td>\n",
       "      <td>1970-01-01 00:00:00.000002018</td>\n",
       "    </tr>\n",
       "    <tr>\n",
       "      <th>126</th>\n",
       "      <td>Meesho</td>\n",
       "      <td>4.90</td>\n",
       "      <td>Internet software &amp; services</td>\n",
       "      <td>1970-01-01 00:00:00.000002021</td>\n",
       "    </tr>\n",
       "    <tr>\n",
       "      <th>153</th>\n",
       "      <td>CRED</td>\n",
       "      <td>4.01</td>\n",
       "      <td>Fintech</td>\n",
       "      <td>1970-01-01 00:00:00.000002021</td>\n",
       "    </tr>\n",
       "    <tr>\n",
       "      <th>193</th>\n",
       "      <td>Digit Insurance</td>\n",
       "      <td>3.50</td>\n",
       "      <td>Fintech</td>\n",
       "      <td>1970-01-01 00:00:00.000002021</td>\n",
       "    </tr>\n",
       "    <tr>\n",
       "      <th>199</th>\n",
       "      <td>Unacademy</td>\n",
       "      <td>3.44</td>\n",
       "      <td>Edtech</td>\n",
       "      <td>1970-01-01 00:00:00.000002020</td>\n",
       "    </tr>\n",
       "    <tr>\n",
       "      <th>215</th>\n",
       "      <td>Eruditus Executive Education</td>\n",
       "      <td>3.20</td>\n",
       "      <td>Edtech</td>\n",
       "      <td>1970-01-01 00:00:00.000002021</td>\n",
       "    </tr>\n",
       "    <tr>\n",
       "      <th>221</th>\n",
       "      <td>Udaan</td>\n",
       "      <td>3.10</td>\n",
       "      <td>Supply chain, logistics, &amp; delivery</td>\n",
       "      <td>1970-01-01 00:00:00.000002018</td>\n",
       "    </tr>\n",
       "    <tr>\n",
       "      <th>231</th>\n",
       "      <td>Delhivery</td>\n",
       "      <td>3.00</td>\n",
       "      <td>Supply chain, logistics, &amp; delivery</td>\n",
       "      <td>1970-01-01 00:00:00.000002019</td>\n",
       "    </tr>\n",
       "    <tr>\n",
       "      <th>234</th>\n",
       "      <td>Pine Labs</td>\n",
       "      <td>3.00</td>\n",
       "      <td>Fintech</td>\n",
       "      <td>1970-01-01 00:00:00.000002020</td>\n",
       "    </tr>\n",
       "    <tr>\n",
       "      <th>236</th>\n",
       "      <td>Razorpay</td>\n",
       "      <td>3.00</td>\n",
       "      <td>Fintech</td>\n",
       "      <td>1970-01-01 00:00:00.000002020</td>\n",
       "    </tr>\n",
       "    <tr>\n",
       "      <th>245</th>\n",
       "      <td>ShareChat</td>\n",
       "      <td>3.00</td>\n",
       "      <td>Internet software &amp; services</td>\n",
       "      <td>1970-01-01 00:00:00.000002021</td>\n",
       "    </tr>\n",
       "    <tr>\n",
       "      <th>252</th>\n",
       "      <td>Ola Electric Mobility</td>\n",
       "      <td>3.00</td>\n",
       "      <td>Auto &amp; transportation</td>\n",
       "      <td>1970-01-01 00:00:00.000002019</td>\n",
       "    </tr>\n",
       "    <tr>\n",
       "      <th>257</th>\n",
       "      <td>Groww</td>\n",
       "      <td>3.00</td>\n",
       "      <td>Fintech</td>\n",
       "      <td>1970-01-01 00:00:00.000002021</td>\n",
       "    </tr>\n",
       "    <tr>\n",
       "      <th>265</th>\n",
       "      <td>OfBusiness</td>\n",
       "      <td>3.00</td>\n",
       "      <td>E-commerce &amp; direct-to-consumer</td>\n",
       "      <td>1970-01-01 00:00:00.000002021</td>\n",
       "    </tr>\n",
       "    <tr>\n",
       "      <th>266</th>\n",
       "      <td>BharatPe</td>\n",
       "      <td>2.85</td>\n",
       "      <td>Fintech</td>\n",
       "      <td>1970-01-01 00:00:00.000002021</td>\n",
       "    </tr>\n",
       "    <tr>\n",
       "      <th>292</th>\n",
       "      <td>Lenskart</td>\n",
       "      <td>2.50</td>\n",
       "      <td>E-commerce &amp; direct-to-consumer</td>\n",
       "      <td>1970-01-01 00:00:00.000002019</td>\n",
       "    </tr>\n",
       "    <tr>\n",
       "      <th>293</th>\n",
       "      <td>Infra.Market</td>\n",
       "      <td>2.50</td>\n",
       "      <td>E-commerce &amp; direct-to-consumer</td>\n",
       "      <td>1970-01-01 00:00:00.000002021</td>\n",
       "    </tr>\n",
       "    <tr>\n",
       "      <th>299</th>\n",
       "      <td>Mobile Premier League</td>\n",
       "      <td>2.45</td>\n",
       "      <td>Internet software &amp; services</td>\n",
       "      <td>1970-01-01 00:00:00.000002021</td>\n",
       "    </tr>\n",
       "    <tr>\n",
       "      <th>304</th>\n",
       "      <td>PolicyBazaar</td>\n",
       "      <td>2.40</td>\n",
       "      <td>Fintech</td>\n",
       "      <td>1970-01-01 00:00:00.000002019</td>\n",
       "    </tr>\n",
       "    <tr>\n",
       "      <th>339</th>\n",
       "      <td>FirstCry</td>\n",
       "      <td>2.10</td>\n",
       "      <td>E-commerce &amp; direct-to-consumer</td>\n",
       "      <td>1970-01-01 00:00:00.000002020</td>\n",
       "    </tr>\n",
       "    <tr>\n",
       "      <th>343</th>\n",
       "      <td>Urban Company</td>\n",
       "      <td>2.10</td>\n",
       "      <td>E-commerce &amp; direct-to-consumer</td>\n",
       "      <td>1970-01-01 00:00:00.000002021</td>\n",
       "    </tr>\n",
       "    <tr>\n",
       "      <th>420</th>\n",
       "      <td>CoinSwitch Kuber</td>\n",
       "      <td>1.90</td>\n",
       "      <td>Fintech</td>\n",
       "      <td>1970-01-01 00:00:00.000002021</td>\n",
       "    </tr>\n",
       "    <tr>\n",
       "      <th>432</th>\n",
       "      <td>Spinny</td>\n",
       "      <td>1.75</td>\n",
       "      <td>E-commerce &amp; direct-to-consumer</td>\n",
       "      <td>1970-01-01 00:00:00.000002021</td>\n",
       "    </tr>\n",
       "    <tr>\n",
       "      <th>434</th>\n",
       "      <td>Cars24</td>\n",
       "      <td>1.84</td>\n",
       "      <td>E-commerce &amp; direct-to-consumer</td>\n",
       "      <td>1970-01-01 00:00:00.000002020</td>\n",
       "    </tr>\n",
       "    <tr>\n",
       "      <th>523</th>\n",
       "      <td>CureFit</td>\n",
       "      <td>1.50</td>\n",
       "      <td>Health</td>\n",
       "      <td>1970-01-01 00:00:00.000002021</td>\n",
       "    </tr>\n",
       "    <tr>\n",
       "      <th>545</th>\n",
       "      <td>Rebel Foods</td>\n",
       "      <td>1.40</td>\n",
       "      <td>E-commerce &amp; direct-to-consumer</td>\n",
       "      <td>1970-01-01 00:00:00.000002021</td>\n",
       "    </tr>\n",
       "    <tr>\n",
       "      <th>547</th>\n",
       "      <td>Five Star Business Finance</td>\n",
       "      <td>1.40</td>\n",
       "      <td>Other</td>\n",
       "      <td>1970-01-01 00:00:00.000002021</td>\n",
       "    </tr>\n",
       "    <tr>\n",
       "      <th>631</th>\n",
       "      <td>UpGrad</td>\n",
       "      <td>1.20</td>\n",
       "      <td>Edtech</td>\n",
       "      <td>1970-01-01 00:00:00.000002021</td>\n",
       "    </tr>\n",
       "    <tr>\n",
       "      <th>637</th>\n",
       "      <td>CarDekho</td>\n",
       "      <td>1.20</td>\n",
       "      <td>E-commerce &amp; direct-to-consumer</td>\n",
       "      <td>1970-01-01 00:00:00.000002021</td>\n",
       "    </tr>\n",
       "    <tr>\n",
       "      <th>638</th>\n",
       "      <td>MyGlamm</td>\n",
       "      <td>1.20</td>\n",
       "      <td>E-commerce &amp; direct-to-consumer</td>\n",
       "      <td>1970-01-01 00:00:00.000002021</td>\n",
       "    </tr>\n",
       "    <tr>\n",
       "      <th>640</th>\n",
       "      <td>Pristyn Care</td>\n",
       "      <td>1.20</td>\n",
       "      <td>Health</td>\n",
       "      <td>1970-01-01 00:00:00.000002021</td>\n",
       "    </tr>\n",
       "    <tr>\n",
       "      <th>681</th>\n",
       "      <td>CoinDCX</td>\n",
       "      <td>1.10</td>\n",
       "      <td>Fintech</td>\n",
       "      <td>1970-01-01 00:00:00.000002021</td>\n",
       "    </tr>\n",
       "    <tr>\n",
       "      <th>683</th>\n",
       "      <td>apna</td>\n",
       "      <td>1.10</td>\n",
       "      <td>Internet software &amp; services</td>\n",
       "      <td>1970-01-01 00:00:00.000002021</td>\n",
       "    </tr>\n",
       "    <tr>\n",
       "      <th>686</th>\n",
       "      <td>Acko General Insurance</td>\n",
       "      <td>1.10</td>\n",
       "      <td>Fintech</td>\n",
       "      <td>1970-01-01 00:00:00.000002021</td>\n",
       "    </tr>\n",
       "    <tr>\n",
       "      <th>695</th>\n",
       "      <td>Rivigo</td>\n",
       "      <td>1.07</td>\n",
       "      <td>Supply chain, logistics, &amp; delivery</td>\n",
       "      <td>1970-01-01 00:00:00.000002019</td>\n",
       "    </tr>\n",
       "    <tr>\n",
       "      <th>707</th>\n",
       "      <td>Snapdeal</td>\n",
       "      <td>1.00</td>\n",
       "      <td>E-commerce &amp; direct-to-consumer</td>\n",
       "      <td>1970-01-01 00:00:00.000002014</td>\n",
       "    </tr>\n",
       "    <tr>\n",
       "      <th>709</th>\n",
       "      <td>InMobi</td>\n",
       "      <td>1.00</td>\n",
       "      <td>Mobile &amp; telecommunications</td>\n",
       "      <td>1970-01-01 00:00:00.000002014</td>\n",
       "    </tr>\n",
       "    <tr>\n",
       "      <th>794</th>\n",
       "      <td>DailyHunt</td>\n",
       "      <td>1.00</td>\n",
       "      <td>Internet software &amp; services</td>\n",
       "      <td>1970-01-01 00:00:00.000002020</td>\n",
       "    </tr>\n",
       "    <tr>\n",
       "      <th>859</th>\n",
       "      <td>Grofers</td>\n",
       "      <td>1.01</td>\n",
       "      <td>Supply chain, logistics, &amp; delivery</td>\n",
       "      <td>1970-01-01 00:00:00.000002021</td>\n",
       "    </tr>\n",
       "    <tr>\n",
       "      <th>871</th>\n",
       "      <td>BlackBuck</td>\n",
       "      <td>1.00</td>\n",
       "      <td>Supply chain, logistics, &amp; delivery</td>\n",
       "      <td>1970-01-01 00:00:00.000002021</td>\n",
       "    </tr>\n",
       "    <tr>\n",
       "      <th>880</th>\n",
       "      <td>Zetwerk</td>\n",
       "      <td>1.33</td>\n",
       "      <td>Internet software &amp; services</td>\n",
       "      <td>1970-01-01 00:00:00.000002021</td>\n",
       "    </tr>\n",
       "    <tr>\n",
       "      <th>898</th>\n",
       "      <td>Vedantu</td>\n",
       "      <td>1.00</td>\n",
       "      <td>Edtech</td>\n",
       "      <td>1970-01-01 00:00:00.000002021</td>\n",
       "    </tr>\n",
       "    <tr>\n",
       "      <th>901</th>\n",
       "      <td>Licious</td>\n",
       "      <td>1.00</td>\n",
       "      <td>E-commerce &amp; direct-to-consumer</td>\n",
       "      <td>1970-01-01 00:00:00.000002021</td>\n",
       "    </tr>\n",
       "    <tr>\n",
       "      <th>920</th>\n",
       "      <td>Mensa Brands</td>\n",
       "      <td>1.00</td>\n",
       "      <td>Other</td>\n",
       "      <td>1970-01-01 00:00:00.000002021</td>\n",
       "    </tr>\n",
       "    <tr>\n",
       "      <th>926</th>\n",
       "      <td>NoBroker</td>\n",
       "      <td>1.00</td>\n",
       "      <td>Internet software &amp; services</td>\n",
       "      <td>1970-01-01 00:00:00.000002021</td>\n",
       "    </tr>\n",
       "    <tr>\n",
       "      <th>927</th>\n",
       "      <td>Slice</td>\n",
       "      <td>1.00</td>\n",
       "      <td>Fintech</td>\n",
       "      <td>1970-01-01 00:00:00.000002021</td>\n",
       "    </tr>\n",
       "  </tbody>\n",
       "</table>\n",
       "</div>"
      ],
      "text/plain": [
       "                              Company  Valuation ($B)  \\\n",
       "12                             BYJU's           21.00   \n",
       "53                          OYO Rooms            9.60   \n",
       "62                            Dream11            8.00   \n",
       "80   National Stock Exchange of India            6.50   \n",
       "83                           Ola Cabs            7.50   \n",
       "115                            Swiggy            5.50   \n",
       "126                            Meesho            4.90   \n",
       "153                              CRED            4.01   \n",
       "193                   Digit Insurance            3.50   \n",
       "199                         Unacademy            3.44   \n",
       "215      Eruditus Executive Education            3.20   \n",
       "221                             Udaan            3.10   \n",
       "231                         Delhivery            3.00   \n",
       "234                         Pine Labs            3.00   \n",
       "236                          Razorpay            3.00   \n",
       "245                         ShareChat            3.00   \n",
       "252             Ola Electric Mobility            3.00   \n",
       "257                             Groww            3.00   \n",
       "265                        OfBusiness            3.00   \n",
       "266                          BharatPe            2.85   \n",
       "292                          Lenskart            2.50   \n",
       "293                      Infra.Market            2.50   \n",
       "299             Mobile Premier League            2.45   \n",
       "304                      PolicyBazaar            2.40   \n",
       "339                          FirstCry            2.10   \n",
       "343                     Urban Company            2.10   \n",
       "420                  CoinSwitch Kuber            1.90   \n",
       "432                            Spinny            1.75   \n",
       "434                            Cars24            1.84   \n",
       "523                           CureFit            1.50   \n",
       "545                       Rebel Foods            1.40   \n",
       "547        Five Star Business Finance            1.40   \n",
       "631                            UpGrad            1.20   \n",
       "637                          CarDekho            1.20   \n",
       "638                           MyGlamm            1.20   \n",
       "640                      Pristyn Care            1.20   \n",
       "681                           CoinDCX            1.10   \n",
       "683                              apna            1.10   \n",
       "686            Acko General Insurance            1.10   \n",
       "695                            Rivigo            1.07   \n",
       "707                          Snapdeal            1.00   \n",
       "709                            InMobi            1.00   \n",
       "794                         DailyHunt            1.00   \n",
       "859                           Grofers            1.01   \n",
       "871                         BlackBuck            1.00   \n",
       "880                           Zetwerk            1.33   \n",
       "898                           Vedantu            1.00   \n",
       "901                           Licious            1.00   \n",
       "920                      Mensa Brands            1.00   \n",
       "926                          NoBroker            1.00   \n",
       "927                             Slice            1.00   \n",
       "\n",
       "                                Industry                          Year  \n",
       "12                                Edtech 1970-01-01 00:00:00.000002017  \n",
       "53                                Travel 1970-01-01 00:00:00.000002018  \n",
       "62          Internet software & services 1970-01-01 00:00:00.000002019  \n",
       "80                               Fintech 1970-01-01 00:00:00.000002020  \n",
       "83                 Auto & transportation 1970-01-01 00:00:00.000002014  \n",
       "115  Supply chain, logistics, & delivery 1970-01-01 00:00:00.000002018  \n",
       "126         Internet software & services 1970-01-01 00:00:00.000002021  \n",
       "153                              Fintech 1970-01-01 00:00:00.000002021  \n",
       "193                              Fintech 1970-01-01 00:00:00.000002021  \n",
       "199                               Edtech 1970-01-01 00:00:00.000002020  \n",
       "215                               Edtech 1970-01-01 00:00:00.000002021  \n",
       "221  Supply chain, logistics, & delivery 1970-01-01 00:00:00.000002018  \n",
       "231  Supply chain, logistics, & delivery 1970-01-01 00:00:00.000002019  \n",
       "234                              Fintech 1970-01-01 00:00:00.000002020  \n",
       "236                              Fintech 1970-01-01 00:00:00.000002020  \n",
       "245         Internet software & services 1970-01-01 00:00:00.000002021  \n",
       "252                Auto & transportation 1970-01-01 00:00:00.000002019  \n",
       "257                              Fintech 1970-01-01 00:00:00.000002021  \n",
       "265      E-commerce & direct-to-consumer 1970-01-01 00:00:00.000002021  \n",
       "266                              Fintech 1970-01-01 00:00:00.000002021  \n",
       "292      E-commerce & direct-to-consumer 1970-01-01 00:00:00.000002019  \n",
       "293      E-commerce & direct-to-consumer 1970-01-01 00:00:00.000002021  \n",
       "299         Internet software & services 1970-01-01 00:00:00.000002021  \n",
       "304                              Fintech 1970-01-01 00:00:00.000002019  \n",
       "339      E-commerce & direct-to-consumer 1970-01-01 00:00:00.000002020  \n",
       "343      E-commerce & direct-to-consumer 1970-01-01 00:00:00.000002021  \n",
       "420                              Fintech 1970-01-01 00:00:00.000002021  \n",
       "432      E-commerce & direct-to-consumer 1970-01-01 00:00:00.000002021  \n",
       "434      E-commerce & direct-to-consumer 1970-01-01 00:00:00.000002020  \n",
       "523                               Health 1970-01-01 00:00:00.000002021  \n",
       "545      E-commerce & direct-to-consumer 1970-01-01 00:00:00.000002021  \n",
       "547                                Other 1970-01-01 00:00:00.000002021  \n",
       "631                               Edtech 1970-01-01 00:00:00.000002021  \n",
       "637      E-commerce & direct-to-consumer 1970-01-01 00:00:00.000002021  \n",
       "638      E-commerce & direct-to-consumer 1970-01-01 00:00:00.000002021  \n",
       "640                               Health 1970-01-01 00:00:00.000002021  \n",
       "681                              Fintech 1970-01-01 00:00:00.000002021  \n",
       "683         Internet software & services 1970-01-01 00:00:00.000002021  \n",
       "686                              Fintech 1970-01-01 00:00:00.000002021  \n",
       "695  Supply chain, logistics, & delivery 1970-01-01 00:00:00.000002019  \n",
       "707      E-commerce & direct-to-consumer 1970-01-01 00:00:00.000002014  \n",
       "709          Mobile & telecommunications 1970-01-01 00:00:00.000002014  \n",
       "794         Internet software & services 1970-01-01 00:00:00.000002020  \n",
       "859  Supply chain, logistics, & delivery 1970-01-01 00:00:00.000002021  \n",
       "871  Supply chain, logistics, & delivery 1970-01-01 00:00:00.000002021  \n",
       "880         Internet software & services 1970-01-01 00:00:00.000002021  \n",
       "898                               Edtech 1970-01-01 00:00:00.000002021  \n",
       "901      E-commerce & direct-to-consumer 1970-01-01 00:00:00.000002021  \n",
       "920                                Other 1970-01-01 00:00:00.000002021  \n",
       "926         Internet software & services 1970-01-01 00:00:00.000002021  \n",
       "927                              Fintech 1970-01-01 00:00:00.000002021  "
      ]
     },
     "execution_count": 258,
     "metadata": {},
     "output_type": "execute_result"
    }
   ],
   "source": [
    "df_india[['Company','Valuation ($B)','Industry','Year']]"
   ]
  },
  {
   "cell_type": "code",
   "execution_count": 259,
   "id": "689d3bba",
   "metadata": {},
   "outputs": [
    {
     "data": {
      "text/plain": [
       "12                           BYJU's\n",
       "199                       Unacademy\n",
       "215    Eruditus Executive Education\n",
       "631                          UpGrad\n",
       "898                         Vedantu\n",
       "Name: Company, dtype: object"
      ]
     },
     "execution_count": 259,
     "metadata": {},
     "output_type": "execute_result"
    }
   ],
   "source": [
    "df_india[df_india.Industry == 'Edtech']['Company']"
   ]
  },
  {
   "cell_type": "code",
   "execution_count": 260,
   "id": "c7e46b79",
   "metadata": {},
   "outputs": [
    {
     "data": {
      "text/plain": [
       "62                   Dream11\n",
       "126                   Meesho\n",
       "245                ShareChat\n",
       "299    Mobile Premier League\n",
       "683                     apna\n",
       "794                DailyHunt\n",
       "880                  Zetwerk\n",
       "926                 NoBroker\n",
       "Name: Company, dtype: object"
      ]
     },
     "execution_count": 260,
     "metadata": {},
     "output_type": "execute_result"
    }
   ],
   "source": [
    "df_india[df_india.Industry == 'Internet software & services']['Company']"
   ]
  },
  {
   "cell_type": "code",
   "execution_count": null,
   "id": "3e5add4d",
   "metadata": {},
   "outputs": [],
   "source": []
  },
  {
   "cell_type": "code",
   "execution_count": null,
   "id": "abb8c247",
   "metadata": {},
   "outputs": [],
   "source": []
  }
 ],
 "metadata": {
  "kernelspec": {
   "display_name": "Python 3 (ipykernel)",
   "language": "python",
   "name": "python3"
  },
  "language_info": {
   "codemirror_mode": {
    "name": "ipython",
    "version": 3
   },
   "file_extension": ".py",
   "mimetype": "text/x-python",
   "name": "python",
   "nbconvert_exporter": "python",
   "pygments_lexer": "ipython3",
   "version": "3.10.5"
  }
 },
 "nbformat": 4,
 "nbformat_minor": 5
}
